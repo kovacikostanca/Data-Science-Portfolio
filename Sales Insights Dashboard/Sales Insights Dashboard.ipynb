{
 "cells": [
  {
   "cell_type": "markdown",
   "id": "521ae8bc-7e30-43a7-adff-ecb4aaf7356f",
   "metadata": {},
   "source": [
    "# Sales Insights Dashboard\n",
    "\n",
    "## Python + Tableau"
   ]
  },
  {
   "cell_type": "markdown",
   "id": "3ba199b0-c19b-4c41-97be-482638cfbb76",
   "metadata": {},
   "source": [
    "### Project Scope\n",
    "\n",
    "Built a clean, reproducible pipeline that prepares sales data with useful aggregations (sales by product, monthly trend, sales by region, top customers, profit), export results for Tableau, and optionally produce diagnostic charts. \n",
    "\n",
    "__Data Source:__ \n",
    "\n",
    "Warehouse & Retail Sales : https://catalog.data.gov/dataset/warehouse-and-retail-sales\n",
    "\n",
    "__Key Metrics:__\n",
    "\n",
    "* Total Sales\n",
    "\n",
    "* Sales by Product/Region\n",
    "\n",
    "* Monthly/Quarterly Trends\n",
    "\n",
    "* Top Customers\n",
    "\n",
    "* Profit Margins"
   ]
  },
  {
   "cell_type": "markdown",
   "id": "b3bf4186-671b-4c5a-b71e-0c1709359627",
   "metadata": {},
   "source": [
    "### Download/Collect Data"
   ]
  },
  {
   "cell_type": "code",
   "execution_count": 1,
   "id": "995323fd-94d2-40a9-aed0-67fe84bdb170",
   "metadata": {},
   "outputs": [
    {
     "data": {
      "text/html": [
       "<div>\n",
       "<style scoped>\n",
       "    .dataframe tbody tr th:only-of-type {\n",
       "        vertical-align: middle;\n",
       "    }\n",
       "\n",
       "    .dataframe tbody tr th {\n",
       "        vertical-align: top;\n",
       "    }\n",
       "\n",
       "    .dataframe thead th {\n",
       "        text-align: right;\n",
       "    }\n",
       "</style>\n",
       "<table border=\"1\" class=\"dataframe\">\n",
       "  <thead>\n",
       "    <tr style=\"text-align: right;\">\n",
       "      <th></th>\n",
       "      <th>YEAR</th>\n",
       "      <th>MONTH</th>\n",
       "      <th>SUPPLIER</th>\n",
       "      <th>ITEM CODE</th>\n",
       "      <th>ITEM DESCRIPTION</th>\n",
       "      <th>ITEM TYPE</th>\n",
       "      <th>RETAIL SALES</th>\n",
       "      <th>RETAIL TRANSFERS</th>\n",
       "      <th>WAREHOUSE SALES</th>\n",
       "    </tr>\n",
       "  </thead>\n",
       "  <tbody>\n",
       "    <tr>\n",
       "      <th>0</th>\n",
       "      <td>2020</td>\n",
       "      <td>1</td>\n",
       "      <td>REPUBLIC NATIONAL DISTRIBUTING CO</td>\n",
       "      <td>100009</td>\n",
       "      <td>BOOTLEG RED - 750ML</td>\n",
       "      <td>WINE</td>\n",
       "      <td>0.00</td>\n",
       "      <td>0.0</td>\n",
       "      <td>2.00</td>\n",
       "    </tr>\n",
       "    <tr>\n",
       "      <th>1</th>\n",
       "      <td>2020</td>\n",
       "      <td>1</td>\n",
       "      <td>PWSWN INC</td>\n",
       "      <td>100024</td>\n",
       "      <td>MOMENT DE PLAISIR - 750ML</td>\n",
       "      <td>WINE</td>\n",
       "      <td>0.00</td>\n",
       "      <td>1.0</td>\n",
       "      <td>4.00</td>\n",
       "    </tr>\n",
       "    <tr>\n",
       "      <th>2</th>\n",
       "      <td>2020</td>\n",
       "      <td>1</td>\n",
       "      <td>RELIABLE CHURCHILL LLLP</td>\n",
       "      <td>1001</td>\n",
       "      <td>S SMITH ORGANIC PEAR CIDER - 18.7OZ</td>\n",
       "      <td>BEER</td>\n",
       "      <td>0.00</td>\n",
       "      <td>0.0</td>\n",
       "      <td>1.00</td>\n",
       "    </tr>\n",
       "    <tr>\n",
       "      <th>3</th>\n",
       "      <td>2020</td>\n",
       "      <td>1</td>\n",
       "      <td>LANTERNA DISTRIBUTORS INC</td>\n",
       "      <td>100145</td>\n",
       "      <td>SCHLINK HAUS KABINETT - 750ML</td>\n",
       "      <td>WINE</td>\n",
       "      <td>0.00</td>\n",
       "      <td>0.0</td>\n",
       "      <td>1.00</td>\n",
       "    </tr>\n",
       "    <tr>\n",
       "      <th>4</th>\n",
       "      <td>2020</td>\n",
       "      <td>1</td>\n",
       "      <td>DIONYSOS IMPORTS INC</td>\n",
       "      <td>100293</td>\n",
       "      <td>SANTORINI GAVALA WHITE - 750ML</td>\n",
       "      <td>WINE</td>\n",
       "      <td>0.82</td>\n",
       "      <td>0.0</td>\n",
       "      <td>0.00</td>\n",
       "    </tr>\n",
       "    <tr>\n",
       "      <th>...</th>\n",
       "      <td>...</td>\n",
       "      <td>...</td>\n",
       "      <td>...</td>\n",
       "      <td>...</td>\n",
       "      <td>...</td>\n",
       "      <td>...</td>\n",
       "      <td>...</td>\n",
       "      <td>...</td>\n",
       "      <td>...</td>\n",
       "    </tr>\n",
       "    <tr>\n",
       "      <th>307640</th>\n",
       "      <td>2020</td>\n",
       "      <td>9</td>\n",
       "      <td>LEGENDS LTD</td>\n",
       "      <td>99753</td>\n",
       "      <td>DUTCHESS DE BOURGOGNE NR - 750ML</td>\n",
       "      <td>BEER</td>\n",
       "      <td>0.00</td>\n",
       "      <td>0.0</td>\n",
       "      <td>5.00</td>\n",
       "    </tr>\n",
       "    <tr>\n",
       "      <th>307641</th>\n",
       "      <td>2020</td>\n",
       "      <td>9</td>\n",
       "      <td>ANHEUSER BUSCH INC</td>\n",
       "      <td>9997</td>\n",
       "      <td>HOEGAARDEN 4/6NR - 12OZ</td>\n",
       "      <td>BEER</td>\n",
       "      <td>66.12</td>\n",
       "      <td>37.0</td>\n",
       "      <td>240.75</td>\n",
       "    </tr>\n",
       "    <tr>\n",
       "      <th>307642</th>\n",
       "      <td>2020</td>\n",
       "      <td>9</td>\n",
       "      <td>COASTAL BREWING COMPANY LLC</td>\n",
       "      <td>99970</td>\n",
       "      <td>DOMINION OAK BARREL STOUT 4/6 NR - 12OZ</td>\n",
       "      <td>BEER</td>\n",
       "      <td>2.25</td>\n",
       "      <td>0.0</td>\n",
       "      <td>0.00</td>\n",
       "    </tr>\n",
       "    <tr>\n",
       "      <th>307643</th>\n",
       "      <td>2020</td>\n",
       "      <td>9</td>\n",
       "      <td>BOSTON BEER CORPORATION</td>\n",
       "      <td>99990</td>\n",
       "      <td>SAM ADAMS SUMMER VARIETY 12PK NR</td>\n",
       "      <td>BEER</td>\n",
       "      <td>20.50</td>\n",
       "      <td>0.0</td>\n",
       "      <td>0.00</td>\n",
       "    </tr>\n",
       "    <tr>\n",
       "      <th>307644</th>\n",
       "      <td>2020</td>\n",
       "      <td>9</td>\n",
       "      <td>NaN</td>\n",
       "      <td>WC</td>\n",
       "      <td>WINE CREDIT</td>\n",
       "      <td>REF</td>\n",
       "      <td>0.00</td>\n",
       "      <td>0.0</td>\n",
       "      <td>-70.00</td>\n",
       "    </tr>\n",
       "  </tbody>\n",
       "</table>\n",
       "<p>307645 rows × 9 columns</p>\n",
       "</div>"
      ],
      "text/plain": [
       "        YEAR  MONTH                           SUPPLIER ITEM CODE  \\\n",
       "0       2020      1  REPUBLIC NATIONAL DISTRIBUTING CO    100009   \n",
       "1       2020      1                          PWSWN INC    100024   \n",
       "2       2020      1            RELIABLE CHURCHILL LLLP      1001   \n",
       "3       2020      1          LANTERNA DISTRIBUTORS INC    100145   \n",
       "4       2020      1               DIONYSOS IMPORTS INC    100293   \n",
       "...      ...    ...                                ...       ...   \n",
       "307640  2020      9                        LEGENDS LTD     99753   \n",
       "307641  2020      9                 ANHEUSER BUSCH INC      9997   \n",
       "307642  2020      9        COASTAL BREWING COMPANY LLC     99970   \n",
       "307643  2020      9            BOSTON BEER CORPORATION     99990   \n",
       "307644  2020      9                                NaN        WC   \n",
       "\n",
       "                               ITEM DESCRIPTION ITEM TYPE  RETAIL SALES  \\\n",
       "0                           BOOTLEG RED - 750ML      WINE          0.00   \n",
       "1                     MOMENT DE PLAISIR - 750ML      WINE          0.00   \n",
       "2           S SMITH ORGANIC PEAR CIDER - 18.7OZ      BEER          0.00   \n",
       "3                 SCHLINK HAUS KABINETT - 750ML      WINE          0.00   \n",
       "4                SANTORINI GAVALA WHITE - 750ML      WINE          0.82   \n",
       "...                                         ...       ...           ...   \n",
       "307640         DUTCHESS DE BOURGOGNE NR - 750ML      BEER          0.00   \n",
       "307641                  HOEGAARDEN 4/6NR - 12OZ      BEER         66.12   \n",
       "307642  DOMINION OAK BARREL STOUT 4/6 NR - 12OZ      BEER          2.25   \n",
       "307643         SAM ADAMS SUMMER VARIETY 12PK NR      BEER         20.50   \n",
       "307644                              WINE CREDIT       REF          0.00   \n",
       "\n",
       "        RETAIL TRANSFERS  WAREHOUSE SALES  \n",
       "0                    0.0             2.00  \n",
       "1                    1.0             4.00  \n",
       "2                    0.0             1.00  \n",
       "3                    0.0             1.00  \n",
       "4                    0.0             0.00  \n",
       "...                  ...              ...  \n",
       "307640               0.0             5.00  \n",
       "307641              37.0           240.75  \n",
       "307642               0.0             0.00  \n",
       "307643               0.0             0.00  \n",
       "307644               0.0           -70.00  \n",
       "\n",
       "[307645 rows x 9 columns]"
      ]
     },
     "execution_count": 1,
     "metadata": {},
     "output_type": "execute_result"
    }
   ],
   "source": [
    "import pandas as pd\n",
    "\n",
    "df=pd.read_csv('Warehouse_and_Retail_Sales.csv')\n",
    "df"
   ]
  },
  {
   "cell_type": "markdown",
   "id": "eda82faf-8ffb-452d-a7a4-4eb602f139b7",
   "metadata": {},
   "source": [
    "__Observe Data__"
   ]
  },
  {
   "cell_type": "code",
   "execution_count": 2,
   "id": "5119657c-68ea-4368-b68b-249be8e9fed5",
   "metadata": {},
   "outputs": [
    {
     "name": "stdout",
     "output_type": "stream",
     "text": [
      "<class 'pandas.core.frame.DataFrame'>\n",
      "RangeIndex: 307645 entries, 0 to 307644\n",
      "Data columns (total 9 columns):\n",
      " #   Column            Non-Null Count   Dtype  \n",
      "---  ------            --------------   -----  \n",
      " 0   YEAR              307645 non-null  int64  \n",
      " 1   MONTH             307645 non-null  int64  \n",
      " 2   SUPPLIER          307478 non-null  object \n",
      " 3   ITEM CODE         307645 non-null  object \n",
      " 4   ITEM DESCRIPTION  307645 non-null  object \n",
      " 5   ITEM TYPE         307644 non-null  object \n",
      " 6   RETAIL SALES      307642 non-null  float64\n",
      " 7   RETAIL TRANSFERS  307645 non-null  float64\n",
      " 8   WAREHOUSE SALES   307645 non-null  float64\n",
      "dtypes: float64(3), int64(2), object(4)\n",
      "memory usage: 21.1+ MB\n"
     ]
    }
   ],
   "source": [
    "df.info()"
   ]
  },
  {
   "cell_type": "markdown",
   "id": "3ec5f3b6-a89d-47c7-819a-609d8ddf035f",
   "metadata": {},
   "source": [
    "__Dataset Overview__\n",
    "\n",
    ">* Size: 307645 entries, 0 to 307644\n",
    ">* Columns:  9 columns\n",
    ">* Memory Usage : 21.1+ MB\n",
    "\n",
    "| Column | Data Type | Missing Values | Notes |\n",
    "|--------|-----------|----------------|-------|\n",
    "| YEAR | int64 | None | All 307,645 entries present |\n",
    "| MONTH | int64 | None | All entries present |\n",
    "| SUPPLIER | object (text) | 167 missing | Only 307,478 non-nullI |\n",
    "| TEM CODE | object (text) | None | All entries present |\n",
    "| ITEM DESCRIPTION | object (text) | None | All entries present |\n",
    "| ITEM TYPE | object (text) | 1 missing | 307,644 non-null |\n",
    "| RETAIL SALES | float64 (decimal) | 3 missing | 307,642 non-null | \n",
    "| RETAIL TRANSFERS | float64 (decimal) | None | All entries present |\n",
    "| WAREHOUSE SALES | float64 (decimal) | None | All entries present |"
   ]
  },
  {
   "cell_type": "markdown",
   "id": "148f8f1c-5aea-4903-bf73-a88109e46415",
   "metadata": {},
   "source": [
    "This dataset contains minimal missing data (only 171 total missing values across all columns)."
   ]
  },
  {
   "cell_type": "code",
   "execution_count": 3,
   "id": "c6753ad5-a0b7-47a5-aea1-660566192b7a",
   "metadata": {},
   "outputs": [
    {
     "data": {
      "text/html": [
       "<div>\n",
       "<style scoped>\n",
       "    .dataframe tbody tr th:only-of-type {\n",
       "        vertical-align: middle;\n",
       "    }\n",
       "\n",
       "    .dataframe tbody tr th {\n",
       "        vertical-align: top;\n",
       "    }\n",
       "\n",
       "    .dataframe thead th {\n",
       "        text-align: right;\n",
       "    }\n",
       "</style>\n",
       "<table border=\"1\" class=\"dataframe\">\n",
       "  <thead>\n",
       "    <tr style=\"text-align: right;\">\n",
       "      <th></th>\n",
       "      <th>YEAR</th>\n",
       "      <th>MONTH</th>\n",
       "      <th>RETAIL SALES</th>\n",
       "      <th>RETAIL TRANSFERS</th>\n",
       "      <th>WAREHOUSE SALES</th>\n",
       "    </tr>\n",
       "  </thead>\n",
       "  <tbody>\n",
       "    <tr>\n",
       "      <th>count</th>\n",
       "      <td>307645.000000</td>\n",
       "      <td>307645.000000</td>\n",
       "      <td>307642.000000</td>\n",
       "      <td>307645.000000</td>\n",
       "      <td>307645.000000</td>\n",
       "    </tr>\n",
       "    <tr>\n",
       "      <th>mean</th>\n",
       "      <td>2018.438525</td>\n",
       "      <td>6.423862</td>\n",
       "      <td>7.024071</td>\n",
       "      <td>6.936465</td>\n",
       "      <td>25.294597</td>\n",
       "    </tr>\n",
       "    <tr>\n",
       "      <th>std</th>\n",
       "      <td>1.083061</td>\n",
       "      <td>3.461812</td>\n",
       "      <td>30.986238</td>\n",
       "      <td>30.237195</td>\n",
       "      <td>249.916798</td>\n",
       "    </tr>\n",
       "    <tr>\n",
       "      <th>min</th>\n",
       "      <td>2017.000000</td>\n",
       "      <td>1.000000</td>\n",
       "      <td>-6.490000</td>\n",
       "      <td>-38.490000</td>\n",
       "      <td>-7800.000000</td>\n",
       "    </tr>\n",
       "    <tr>\n",
       "      <th>25%</th>\n",
       "      <td>2017.000000</td>\n",
       "      <td>3.000000</td>\n",
       "      <td>0.000000</td>\n",
       "      <td>0.000000</td>\n",
       "      <td>0.000000</td>\n",
       "    </tr>\n",
       "    <tr>\n",
       "      <th>50%</th>\n",
       "      <td>2019.000000</td>\n",
       "      <td>7.000000</td>\n",
       "      <td>0.320000</td>\n",
       "      <td>0.000000</td>\n",
       "      <td>1.000000</td>\n",
       "    </tr>\n",
       "    <tr>\n",
       "      <th>75%</th>\n",
       "      <td>2019.000000</td>\n",
       "      <td>9.000000</td>\n",
       "      <td>3.267500</td>\n",
       "      <td>3.000000</td>\n",
       "      <td>5.000000</td>\n",
       "    </tr>\n",
       "    <tr>\n",
       "      <th>max</th>\n",
       "      <td>2020.000000</td>\n",
       "      <td>12.000000</td>\n",
       "      <td>2739.000000</td>\n",
       "      <td>1990.830000</td>\n",
       "      <td>18317.000000</td>\n",
       "    </tr>\n",
       "  </tbody>\n",
       "</table>\n",
       "</div>"
      ],
      "text/plain": [
       "                YEAR          MONTH   RETAIL SALES  RETAIL TRANSFERS  \\\n",
       "count  307645.000000  307645.000000  307642.000000     307645.000000   \n",
       "mean     2018.438525       6.423862       7.024071          6.936465   \n",
       "std         1.083061       3.461812      30.986238         30.237195   \n",
       "min      2017.000000       1.000000      -6.490000        -38.490000   \n",
       "25%      2017.000000       3.000000       0.000000          0.000000   \n",
       "50%      2019.000000       7.000000       0.320000          0.000000   \n",
       "75%      2019.000000       9.000000       3.267500          3.000000   \n",
       "max      2020.000000      12.000000    2739.000000       1990.830000   \n",
       "\n",
       "       WAREHOUSE SALES  \n",
       "count    307645.000000  \n",
       "mean         25.294597  \n",
       "std         249.916798  \n",
       "min       -7800.000000  \n",
       "25%           0.000000  \n",
       "50%           1.000000  \n",
       "75%           5.000000  \n",
       "max       18317.000000  "
      ]
     },
     "execution_count": 3,
     "metadata": {},
     "output_type": "execute_result"
    }
   ],
   "source": [
    "df.describe()"
   ]
  },
  {
   "cell_type": "markdown",
   "id": "59c40335-6983-4976-9531-ca3b54a3053f",
   "metadata": {},
   "source": [
    "| Statistic | Description |\n",
    "|-----------|-------------|\n",
    "| count | Number of non-null values in each column |\n",
    "| mean | Average value |\n",
    "| std | Standard deviation (spread of the data) |\n",
    "| min | Minimum value |\n",
    "| 25% | First quartile (25% of data is below this) |\n",
    "| 50% | Median (middle value) |\n",
    "| 75% | Third quartile (75% of data is below this) |\n",
    "| max | Maximum value |\n",
    "\n",
    "\n",
    "\n",
    "#### Key Insights\n",
    "\n",
    "__YEAR:__\n",
    "\n",
    "- Data spans 2017-2020 (4 years)\n",
    "- Average year is ~2018.4, suggesting more data from earlier years\n",
    "\n",
    "__MONTH__\n",
    "\n",
    "- Covers all 12 months (1-12)\n",
    "- Average month is ~6.4 (slightly skewed toward mid-year)\n",
    "\n",
    "__RETAIL SALES__\n",
    "\n",
    "- Highly skewed: median is 0.32, but max is 2,739\n",
    "- Most transactions are small (75% are under 3.27)\n",
    "- Has negative values (min: -6.49) indicating returns/adjustments\n",
    "- 3 missing values\n",
    "\n",
    "__RETAIL TRANSFERS__\n",
    "\n",
    "- Similar pattern: median is 0, max is 1,990.83\n",
    "- Also has negative values (min: -38.49)\n",
    "- 75% of transfers are under 3\n",
    "\n",
    "__WAREHOUSE SALES__\n",
    "\n",
    "- Extreme outlier: max value is 18,317!\n",
    "- Very wide spread (std: 249.92)\n",
    "- Median is just 1, suggesting most warehouse sales are small\n",
    "- Also has negative values (min: -7,800) - likely returns"
   ]
  },
  {
   "cell_type": "markdown",
   "id": "98add256-f4c3-4834-8220-ef41be68c32c",
   "metadata": {},
   "source": [
    "### Clean Data\n",
    "\n",
    "To clean the data and transform them in a comprehensive way: \n",
    "\n",
    ">* We convert date/time fields into proper datetime objects.\n",
    ">* Handle all the 171 total missing values (drop or impute, depending on context).\n",
    ">* Create derived fields useful for analysis (Year, Month, Quarter from the date, Sales / Movement ratio (if “movement” means quantity).\n",
    ">* Filter or subset if needed (for example recent years, or particular departments).\n",
    ">* Export a cleaned dataset version."
   ]
  },
  {
   "cell_type": "markdown",
   "id": "5aabd3d1-177b-4501-9809-a56ffd418fc3",
   "metadata": {},
   "source": [
    "__Missing Values__"
   ]
  },
  {
   "cell_type": "code",
   "execution_count": 4,
   "id": "6a68e3eb-fa38-40cb-a19c-1a94cae4dd16",
   "metadata": {},
   "outputs": [
    {
     "data": {
      "text/plain": [
       "YEAR                  0\n",
       "MONTH                 0\n",
       "SUPPLIER            167\n",
       "ITEM CODE             0\n",
       "ITEM DESCRIPTION      0\n",
       "ITEM TYPE             1\n",
       "RETAIL SALES          3\n",
       "RETAIL TRANSFERS      0\n",
       "WAREHOUSE SALES       0\n",
       "dtype: int64"
      ]
     },
     "execution_count": 4,
     "metadata": {},
     "output_type": "execute_result"
    }
   ],
   "source": [
    "df.isnull().sum()"
   ]
  },
  {
   "cell_type": "code",
   "execution_count": 7,
   "id": "a544fb09-b41e-4ed2-80d8-1e77067b6ee0",
   "metadata": {},
   "outputs": [
    {
     "data": {
      "text/html": [
       "<div>\n",
       "<style scoped>\n",
       "    .dataframe tbody tr th:only-of-type {\n",
       "        vertical-align: middle;\n",
       "    }\n",
       "\n",
       "    .dataframe tbody tr th {\n",
       "        vertical-align: top;\n",
       "    }\n",
       "\n",
       "    .dataframe thead th {\n",
       "        text-align: right;\n",
       "    }\n",
       "</style>\n",
       "<table border=\"1\" class=\"dataframe\">\n",
       "  <thead>\n",
       "    <tr style=\"text-align: right;\">\n",
       "      <th></th>\n",
       "      <th>YEAR</th>\n",
       "      <th>MONTH</th>\n",
       "      <th>SUPPLIER</th>\n",
       "      <th>ITEM CODE</th>\n",
       "      <th>ITEM DESCRIPTION</th>\n",
       "      <th>ITEM TYPE</th>\n",
       "      <th>RETAIL SALES</th>\n",
       "      <th>RETAIL TRANSFERS</th>\n",
       "      <th>WAREHOUSE SALES</th>\n",
       "    </tr>\n",
       "  </thead>\n",
       "  <tbody>\n",
       "    <tr>\n",
       "      <th>0</th>\n",
       "      <td>2020</td>\n",
       "      <td>1</td>\n",
       "      <td>REPUBLIC NATIONAL DISTRIBUTING CO</td>\n",
       "      <td>100009</td>\n",
       "      <td>BOOTLEG RED - 750ML</td>\n",
       "      <td>WINE</td>\n",
       "      <td>0.00</td>\n",
       "      <td>0.0</td>\n",
       "      <td>2.00</td>\n",
       "    </tr>\n",
       "    <tr>\n",
       "      <th>1</th>\n",
       "      <td>2020</td>\n",
       "      <td>1</td>\n",
       "      <td>PWSWN INC</td>\n",
       "      <td>100024</td>\n",
       "      <td>MOMENT DE PLAISIR - 750ML</td>\n",
       "      <td>WINE</td>\n",
       "      <td>0.00</td>\n",
       "      <td>1.0</td>\n",
       "      <td>4.00</td>\n",
       "    </tr>\n",
       "    <tr>\n",
       "      <th>2</th>\n",
       "      <td>2020</td>\n",
       "      <td>1</td>\n",
       "      <td>RELIABLE CHURCHILL LLLP</td>\n",
       "      <td>1001</td>\n",
       "      <td>S SMITH ORGANIC PEAR CIDER - 18.7OZ</td>\n",
       "      <td>BEER</td>\n",
       "      <td>0.00</td>\n",
       "      <td>0.0</td>\n",
       "      <td>1.00</td>\n",
       "    </tr>\n",
       "    <tr>\n",
       "      <th>3</th>\n",
       "      <td>2020</td>\n",
       "      <td>1</td>\n",
       "      <td>LANTERNA DISTRIBUTORS INC</td>\n",
       "      <td>100145</td>\n",
       "      <td>SCHLINK HAUS KABINETT - 750ML</td>\n",
       "      <td>WINE</td>\n",
       "      <td>0.00</td>\n",
       "      <td>0.0</td>\n",
       "      <td>1.00</td>\n",
       "    </tr>\n",
       "    <tr>\n",
       "      <th>4</th>\n",
       "      <td>2020</td>\n",
       "      <td>1</td>\n",
       "      <td>DIONYSOS IMPORTS INC</td>\n",
       "      <td>100293</td>\n",
       "      <td>SANTORINI GAVALA WHITE - 750ML</td>\n",
       "      <td>WINE</td>\n",
       "      <td>0.82</td>\n",
       "      <td>0.0</td>\n",
       "      <td>0.00</td>\n",
       "    </tr>\n",
       "    <tr>\n",
       "      <th>...</th>\n",
       "      <td>...</td>\n",
       "      <td>...</td>\n",
       "      <td>...</td>\n",
       "      <td>...</td>\n",
       "      <td>...</td>\n",
       "      <td>...</td>\n",
       "      <td>...</td>\n",
       "      <td>...</td>\n",
       "      <td>...</td>\n",
       "    </tr>\n",
       "    <tr>\n",
       "      <th>307640</th>\n",
       "      <td>2020</td>\n",
       "      <td>9</td>\n",
       "      <td>LEGENDS LTD</td>\n",
       "      <td>99753</td>\n",
       "      <td>DUTCHESS DE BOURGOGNE NR - 750ML</td>\n",
       "      <td>BEER</td>\n",
       "      <td>0.00</td>\n",
       "      <td>0.0</td>\n",
       "      <td>5.00</td>\n",
       "    </tr>\n",
       "    <tr>\n",
       "      <th>307641</th>\n",
       "      <td>2020</td>\n",
       "      <td>9</td>\n",
       "      <td>ANHEUSER BUSCH INC</td>\n",
       "      <td>9997</td>\n",
       "      <td>HOEGAARDEN 4/6NR - 12OZ</td>\n",
       "      <td>BEER</td>\n",
       "      <td>66.12</td>\n",
       "      <td>37.0</td>\n",
       "      <td>240.75</td>\n",
       "    </tr>\n",
       "    <tr>\n",
       "      <th>307642</th>\n",
       "      <td>2020</td>\n",
       "      <td>9</td>\n",
       "      <td>COASTAL BREWING COMPANY LLC</td>\n",
       "      <td>99970</td>\n",
       "      <td>DOMINION OAK BARREL STOUT 4/6 NR - 12OZ</td>\n",
       "      <td>BEER</td>\n",
       "      <td>2.25</td>\n",
       "      <td>0.0</td>\n",
       "      <td>0.00</td>\n",
       "    </tr>\n",
       "    <tr>\n",
       "      <th>307643</th>\n",
       "      <td>2020</td>\n",
       "      <td>9</td>\n",
       "      <td>BOSTON BEER CORPORATION</td>\n",
       "      <td>99990</td>\n",
       "      <td>SAM ADAMS SUMMER VARIETY 12PK NR</td>\n",
       "      <td>BEER</td>\n",
       "      <td>20.50</td>\n",
       "      <td>0.0</td>\n",
       "      <td>0.00</td>\n",
       "    </tr>\n",
       "    <tr>\n",
       "      <th>307644</th>\n",
       "      <td>2020</td>\n",
       "      <td>9</td>\n",
       "      <td>Unknown</td>\n",
       "      <td>WC</td>\n",
       "      <td>WINE CREDIT</td>\n",
       "      <td>REF</td>\n",
       "      <td>0.00</td>\n",
       "      <td>0.0</td>\n",
       "      <td>-70.00</td>\n",
       "    </tr>\n",
       "  </tbody>\n",
       "</table>\n",
       "<p>307645 rows × 9 columns</p>\n",
       "</div>"
      ],
      "text/plain": [
       "        YEAR  MONTH                           SUPPLIER ITEM CODE  \\\n",
       "0       2020      1  REPUBLIC NATIONAL DISTRIBUTING CO    100009   \n",
       "1       2020      1                          PWSWN INC    100024   \n",
       "2       2020      1            RELIABLE CHURCHILL LLLP      1001   \n",
       "3       2020      1          LANTERNA DISTRIBUTORS INC    100145   \n",
       "4       2020      1               DIONYSOS IMPORTS INC    100293   \n",
       "...      ...    ...                                ...       ...   \n",
       "307640  2020      9                        LEGENDS LTD     99753   \n",
       "307641  2020      9                 ANHEUSER BUSCH INC      9997   \n",
       "307642  2020      9        COASTAL BREWING COMPANY LLC     99970   \n",
       "307643  2020      9            BOSTON BEER CORPORATION     99990   \n",
       "307644  2020      9                            Unknown        WC   \n",
       "\n",
       "                               ITEM DESCRIPTION ITEM TYPE  RETAIL SALES  \\\n",
       "0                           BOOTLEG RED - 750ML      WINE          0.00   \n",
       "1                     MOMENT DE PLAISIR - 750ML      WINE          0.00   \n",
       "2           S SMITH ORGANIC PEAR CIDER - 18.7OZ      BEER          0.00   \n",
       "3                 SCHLINK HAUS KABINETT - 750ML      WINE          0.00   \n",
       "4                SANTORINI GAVALA WHITE - 750ML      WINE          0.82   \n",
       "...                                         ...       ...           ...   \n",
       "307640         DUTCHESS DE BOURGOGNE NR - 750ML      BEER          0.00   \n",
       "307641                  HOEGAARDEN 4/6NR - 12OZ      BEER         66.12   \n",
       "307642  DOMINION OAK BARREL STOUT 4/6 NR - 12OZ      BEER          2.25   \n",
       "307643         SAM ADAMS SUMMER VARIETY 12PK NR      BEER         20.50   \n",
       "307644                              WINE CREDIT       REF          0.00   \n",
       "\n",
       "        RETAIL TRANSFERS  WAREHOUSE SALES  \n",
       "0                    0.0             2.00  \n",
       "1                    1.0             4.00  \n",
       "2                    0.0             1.00  \n",
       "3                    0.0             1.00  \n",
       "4                    0.0             0.00  \n",
       "...                  ...              ...  \n",
       "307640               0.0             5.00  \n",
       "307641              37.0           240.75  \n",
       "307642               0.0             0.00  \n",
       "307643               0.0             0.00  \n",
       "307644               0.0           -70.00  \n",
       "\n",
       "[307645 rows x 9 columns]"
      ]
     },
     "execution_count": 7,
     "metadata": {},
     "output_type": "execute_result"
    }
   ],
   "source": [
    "# drop missing values\n",
    "# df= df.dropna(subset={'SUPPLIER','ITEM TYPE', 'RETAIL SALES'})\n",
    "\n",
    "''' BUT I am going to fill this categories even if the amount of missing values is not that huge'''\n",
    "\n",
    "\n",
    "\n",
    "# fill missing values\n",
    "df['SUPPLIER']=df['SUPPLIER'].fillna('Unknown')\n",
    "\n",
    "df['ITEM TYPE']=df['ITEM TYPE'].fillna('Unknown Type')\n",
    "\n",
    "df['RETAIL SALES']=df['RETAIL SALES'].fillna(0)\n",
    "\n",
    "df"
   ]
  },
  {
   "cell_type": "code",
   "execution_count": 8,
   "id": "0307caf5-c4c4-4609-9604-327734d075f9",
   "metadata": {},
   "outputs": [
    {
     "data": {
      "text/plain": [
       "YEAR                0\n",
       "MONTH               0\n",
       "SUPPLIER            0\n",
       "ITEM CODE           0\n",
       "ITEM DESCRIPTION    0\n",
       "ITEM TYPE           0\n",
       "RETAIL SALES        0\n",
       "RETAIL TRANSFERS    0\n",
       "WAREHOUSE SALES     0\n",
       "dtype: int64"
      ]
     },
     "execution_count": 8,
     "metadata": {},
     "output_type": "execute_result"
    }
   ],
   "source": [
    "df.isnull().sum()"
   ]
  },
  {
   "cell_type": "markdown",
   "id": "4ab7cc12-8b70-42ff-bd8c-e67f5af64299",
   "metadata": {},
   "source": [
    "WE NOW DONT HAVE MISSING VALUES"
   ]
  },
  {
   "cell_type": "markdown",
   "id": "d76d0f62-271a-4327-9eec-5c0581894468",
   "metadata": {},
   "source": [
    "#### Create Date Column"
   ]
  },
  {
   "cell_type": "code",
   "execution_count": 12,
   "id": "e2d99ceb-53f7-4d2f-8bc2-549064e99fa7",
   "metadata": {},
   "outputs": [
    {
     "data": {
      "text/html": [
       "<div>\n",
       "<style scoped>\n",
       "    .dataframe tbody tr th:only-of-type {\n",
       "        vertical-align: middle;\n",
       "    }\n",
       "\n",
       "    .dataframe tbody tr th {\n",
       "        vertical-align: top;\n",
       "    }\n",
       "\n",
       "    .dataframe thead th {\n",
       "        text-align: right;\n",
       "    }\n",
       "</style>\n",
       "<table border=\"1\" class=\"dataframe\">\n",
       "  <thead>\n",
       "    <tr style=\"text-align: right;\">\n",
       "      <th></th>\n",
       "      <th>YEAR</th>\n",
       "      <th>MONTH</th>\n",
       "      <th>SUPPLIER</th>\n",
       "      <th>ITEM CODE</th>\n",
       "      <th>ITEM DESCRIPTION</th>\n",
       "      <th>ITEM TYPE</th>\n",
       "      <th>RETAIL SALES</th>\n",
       "      <th>RETAIL TRANSFERS</th>\n",
       "      <th>WAREHOUSE SALES</th>\n",
       "      <th>DATE</th>\n",
       "      <th>QUARTER</th>\n",
       "    </tr>\n",
       "  </thead>\n",
       "  <tbody>\n",
       "    <tr>\n",
       "      <th>0</th>\n",
       "      <td>2020</td>\n",
       "      <td>1</td>\n",
       "      <td>REPUBLIC NATIONAL DISTRIBUTING CO</td>\n",
       "      <td>100009</td>\n",
       "      <td>BOOTLEG RED - 750ML</td>\n",
       "      <td>WINE</td>\n",
       "      <td>0.00</td>\n",
       "      <td>0.0</td>\n",
       "      <td>2.0</td>\n",
       "      <td>2020-01-01</td>\n",
       "      <td>1</td>\n",
       "    </tr>\n",
       "    <tr>\n",
       "      <th>1</th>\n",
       "      <td>2020</td>\n",
       "      <td>1</td>\n",
       "      <td>PWSWN INC</td>\n",
       "      <td>100024</td>\n",
       "      <td>MOMENT DE PLAISIR - 750ML</td>\n",
       "      <td>WINE</td>\n",
       "      <td>0.00</td>\n",
       "      <td>1.0</td>\n",
       "      <td>4.0</td>\n",
       "      <td>2020-01-01</td>\n",
       "      <td>1</td>\n",
       "    </tr>\n",
       "    <tr>\n",
       "      <th>2</th>\n",
       "      <td>2020</td>\n",
       "      <td>1</td>\n",
       "      <td>RELIABLE CHURCHILL LLLP</td>\n",
       "      <td>1001</td>\n",
       "      <td>S SMITH ORGANIC PEAR CIDER - 18.7OZ</td>\n",
       "      <td>BEER</td>\n",
       "      <td>0.00</td>\n",
       "      <td>0.0</td>\n",
       "      <td>1.0</td>\n",
       "      <td>2020-01-01</td>\n",
       "      <td>1</td>\n",
       "    </tr>\n",
       "    <tr>\n",
       "      <th>3</th>\n",
       "      <td>2020</td>\n",
       "      <td>1</td>\n",
       "      <td>LANTERNA DISTRIBUTORS INC</td>\n",
       "      <td>100145</td>\n",
       "      <td>SCHLINK HAUS KABINETT - 750ML</td>\n",
       "      <td>WINE</td>\n",
       "      <td>0.00</td>\n",
       "      <td>0.0</td>\n",
       "      <td>1.0</td>\n",
       "      <td>2020-01-01</td>\n",
       "      <td>1</td>\n",
       "    </tr>\n",
       "    <tr>\n",
       "      <th>4</th>\n",
       "      <td>2020</td>\n",
       "      <td>1</td>\n",
       "      <td>DIONYSOS IMPORTS INC</td>\n",
       "      <td>100293</td>\n",
       "      <td>SANTORINI GAVALA WHITE - 750ML</td>\n",
       "      <td>WINE</td>\n",
       "      <td>0.82</td>\n",
       "      <td>0.0</td>\n",
       "      <td>0.0</td>\n",
       "      <td>2020-01-01</td>\n",
       "      <td>1</td>\n",
       "    </tr>\n",
       "  </tbody>\n",
       "</table>\n",
       "</div>"
      ],
      "text/plain": [
       "   YEAR  MONTH                           SUPPLIER ITEM CODE  \\\n",
       "0  2020      1  REPUBLIC NATIONAL DISTRIBUTING CO    100009   \n",
       "1  2020      1                          PWSWN INC    100024   \n",
       "2  2020      1            RELIABLE CHURCHILL LLLP      1001   \n",
       "3  2020      1          LANTERNA DISTRIBUTORS INC    100145   \n",
       "4  2020      1               DIONYSOS IMPORTS INC    100293   \n",
       "\n",
       "                      ITEM DESCRIPTION ITEM TYPE  RETAIL SALES  \\\n",
       "0                  BOOTLEG RED - 750ML      WINE          0.00   \n",
       "1            MOMENT DE PLAISIR - 750ML      WINE          0.00   \n",
       "2  S SMITH ORGANIC PEAR CIDER - 18.7OZ      BEER          0.00   \n",
       "3        SCHLINK HAUS KABINETT - 750ML      WINE          0.00   \n",
       "4       SANTORINI GAVALA WHITE - 750ML      WINE          0.82   \n",
       "\n",
       "   RETAIL TRANSFERS  WAREHOUSE SALES       DATE  QUARTER  \n",
       "0               0.0              2.0 2020-01-01        1  \n",
       "1               1.0              4.0 2020-01-01        1  \n",
       "2               0.0              1.0 2020-01-01        1  \n",
       "3               0.0              1.0 2020-01-01        1  \n",
       "4               0.0              0.0 2020-01-01        1  "
      ]
     },
     "execution_count": 12,
     "metadata": {},
     "output_type": "execute_result"
    }
   ],
   "source": [
    "df['DATE']=pd.to_datetime(df[['YEAR','MONTH']].assign(DAY=1))\n",
    "\n",
    "df['QUARTER']=df['DATE'].dt.quarter\n",
    "\n",
    "df.head()"
   ]
  },
  {
   "cell_type": "markdown",
   "id": "444ae7e6-7197-44c7-818f-57e440cce16b",
   "metadata": {},
   "source": [
    "#### Clean Categorical Text Fields\n",
    "\n",
    "By using this approach below, we make sure that values like \" wine \" and \"Wine\" are treated the same."
   ]
  },
  {
   "cell_type": "code",
   "execution_count": 15,
   "id": "a5e98003-dc7f-4313-9d90-5695b24a693e",
   "metadata": {},
   "outputs": [],
   "source": [
    "df['SUPPLIER']=df['SUPPLIER'].str.strip().str.title()\n",
    "df['ITEM DESCRIPTION']=df['ITEM DESCRIPTION'].str.strip().str.title()\n",
    "df['ITEM TYPE']=df['ITEM TYPE'].str.strip().str.title()"
   ]
  },
  {
   "cell_type": "markdown",
   "id": "0d6c7da9-c88c-4656-a862-2195a836a17e",
   "metadata": {},
   "source": [
    "#### Create Total Sales"
   ]
  },
  {
   "cell_type": "code",
   "execution_count": 18,
   "id": "5d64073d-a467-49a4-9273-dccf50ab3e83",
   "metadata": {},
   "outputs": [],
   "source": [
    "df['TOTAL SALES']=df['RETAIL SALES']+df['RETAIL TRANSFERS']+df['WAREHOUSE SALES']"
   ]
  },
  {
   "cell_type": "markdown",
   "id": "eacb57e8-4ce5-499c-8c99-21a7df348c6c",
   "metadata": {},
   "source": [
    "#### Remove Duplicates"
   ]
  },
  {
   "cell_type": "code",
   "execution_count": 20,
   "id": "a0cb319d-23d8-4c7a-8a9b-93e4fb130ff0",
   "metadata": {},
   "outputs": [
    {
     "data": {
      "text/plain": [
       "np.int64(0)"
      ]
     },
     "execution_count": 20,
     "metadata": {},
     "output_type": "execute_result"
    }
   ],
   "source": [
    "# check for duplicates\n",
    "df.duplicated().sum()"
   ]
  },
  {
   "cell_type": "code",
   "execution_count": 21,
   "id": "89818cea-8560-4346-b2b5-c73743f3981c",
   "metadata": {},
   "outputs": [],
   "source": [
    "# drop duplicates\n",
    "df=df.drop_duplicates()"
   ]
  },
  {
   "cell_type": "markdown",
   "id": "6f72ce6f-6651-4fa1-b70e-cebb95143eb5",
   "metadata": {},
   "source": [
    "#### Final Check and Save Dataset"
   ]
  },
  {
   "cell_type": "code",
   "execution_count": 23,
   "id": "ab7a5ade-775d-46c8-8d28-ea598c148f1b",
   "metadata": {},
   "outputs": [
    {
     "data": {
      "text/html": [
       "<div>\n",
       "<style scoped>\n",
       "    .dataframe tbody tr th:only-of-type {\n",
       "        vertical-align: middle;\n",
       "    }\n",
       "\n",
       "    .dataframe tbody tr th {\n",
       "        vertical-align: top;\n",
       "    }\n",
       "\n",
       "    .dataframe thead th {\n",
       "        text-align: right;\n",
       "    }\n",
       "</style>\n",
       "<table border=\"1\" class=\"dataframe\">\n",
       "  <thead>\n",
       "    <tr style=\"text-align: right;\">\n",
       "      <th></th>\n",
       "      <th>YEAR</th>\n",
       "      <th>MONTH</th>\n",
       "      <th>SUPPLIER</th>\n",
       "      <th>ITEM CODE</th>\n",
       "      <th>ITEM DESCRIPTION</th>\n",
       "      <th>ITEM TYPE</th>\n",
       "      <th>RETAIL SALES</th>\n",
       "      <th>RETAIL TRANSFERS</th>\n",
       "      <th>WAREHOUSE SALES</th>\n",
       "      <th>DATE</th>\n",
       "      <th>QUARTER</th>\n",
       "      <th>TOTAL SALES</th>\n",
       "    </tr>\n",
       "  </thead>\n",
       "  <tbody>\n",
       "    <tr>\n",
       "      <th>0</th>\n",
       "      <td>2020</td>\n",
       "      <td>1</td>\n",
       "      <td>Republic National Distributing Co</td>\n",
       "      <td>100009</td>\n",
       "      <td>Bootleg Red - 750Ml</td>\n",
       "      <td>Wine</td>\n",
       "      <td>0.00</td>\n",
       "      <td>0.0</td>\n",
       "      <td>2.0</td>\n",
       "      <td>2020-01-01</td>\n",
       "      <td>1</td>\n",
       "      <td>2.00</td>\n",
       "    </tr>\n",
       "    <tr>\n",
       "      <th>1</th>\n",
       "      <td>2020</td>\n",
       "      <td>1</td>\n",
       "      <td>Pwswn Inc</td>\n",
       "      <td>100024</td>\n",
       "      <td>Moment De Plaisir - 750Ml</td>\n",
       "      <td>Wine</td>\n",
       "      <td>0.00</td>\n",
       "      <td>1.0</td>\n",
       "      <td>4.0</td>\n",
       "      <td>2020-01-01</td>\n",
       "      <td>1</td>\n",
       "      <td>5.00</td>\n",
       "    </tr>\n",
       "    <tr>\n",
       "      <th>2</th>\n",
       "      <td>2020</td>\n",
       "      <td>1</td>\n",
       "      <td>Reliable Churchill Lllp</td>\n",
       "      <td>1001</td>\n",
       "      <td>S Smith Organic Pear Cider - 18.7Oz</td>\n",
       "      <td>Beer</td>\n",
       "      <td>0.00</td>\n",
       "      <td>0.0</td>\n",
       "      <td>1.0</td>\n",
       "      <td>2020-01-01</td>\n",
       "      <td>1</td>\n",
       "      <td>1.00</td>\n",
       "    </tr>\n",
       "    <tr>\n",
       "      <th>3</th>\n",
       "      <td>2020</td>\n",
       "      <td>1</td>\n",
       "      <td>Lanterna Distributors Inc</td>\n",
       "      <td>100145</td>\n",
       "      <td>Schlink Haus Kabinett - 750Ml</td>\n",
       "      <td>Wine</td>\n",
       "      <td>0.00</td>\n",
       "      <td>0.0</td>\n",
       "      <td>1.0</td>\n",
       "      <td>2020-01-01</td>\n",
       "      <td>1</td>\n",
       "      <td>1.00</td>\n",
       "    </tr>\n",
       "    <tr>\n",
       "      <th>4</th>\n",
       "      <td>2020</td>\n",
       "      <td>1</td>\n",
       "      <td>Dionysos Imports Inc</td>\n",
       "      <td>100293</td>\n",
       "      <td>Santorini Gavala White - 750Ml</td>\n",
       "      <td>Wine</td>\n",
       "      <td>0.82</td>\n",
       "      <td>0.0</td>\n",
       "      <td>0.0</td>\n",
       "      <td>2020-01-01</td>\n",
       "      <td>1</td>\n",
       "      <td>0.82</td>\n",
       "    </tr>\n",
       "  </tbody>\n",
       "</table>\n",
       "</div>"
      ],
      "text/plain": [
       "   YEAR  MONTH                           SUPPLIER ITEM CODE  \\\n",
       "0  2020      1  Republic National Distributing Co    100009   \n",
       "1  2020      1                          Pwswn Inc    100024   \n",
       "2  2020      1            Reliable Churchill Lllp      1001   \n",
       "3  2020      1          Lanterna Distributors Inc    100145   \n",
       "4  2020      1               Dionysos Imports Inc    100293   \n",
       "\n",
       "                      ITEM DESCRIPTION ITEM TYPE  RETAIL SALES  \\\n",
       "0                  Bootleg Red - 750Ml      Wine          0.00   \n",
       "1            Moment De Plaisir - 750Ml      Wine          0.00   \n",
       "2  S Smith Organic Pear Cider - 18.7Oz      Beer          0.00   \n",
       "3        Schlink Haus Kabinett - 750Ml      Wine          0.00   \n",
       "4       Santorini Gavala White - 750Ml      Wine          0.82   \n",
       "\n",
       "   RETAIL TRANSFERS  WAREHOUSE SALES       DATE  QUARTER  TOTAL SALES  \n",
       "0               0.0              2.0 2020-01-01        1         2.00  \n",
       "1               1.0              4.0 2020-01-01        1         5.00  \n",
       "2               0.0              1.0 2020-01-01        1         1.00  \n",
       "3               0.0              1.0 2020-01-01        1         1.00  \n",
       "4               0.0              0.0 2020-01-01        1         0.82  "
      ]
     },
     "execution_count": 23,
     "metadata": {},
     "output_type": "execute_result"
    }
   ],
   "source": [
    "df.to_csv('warehouse_retail_sales_clean.csv', index=False)\n",
    "df.head()"
   ]
  },
  {
   "cell_type": "markdown",
   "id": "e23e5ece-d606-429d-b20f-3ebbe9062b79",
   "metadata": {},
   "source": [
    "### EDA - Exploratory Data Analysis"
   ]
  },
  {
   "cell_type": "code",
   "execution_count": 26,
   "id": "31467db5-f775-4f1c-83ec-26ac4b6ae7c1",
   "metadata": {},
   "outputs": [],
   "source": [
    "import pandas as pd\n",
    "import matplotlib.pyplot as plt\n",
    "import seaborn as sns\n",
    "\n",
    "df=pd.read_csv('warehouse_retail_sales_clean.csv', parse_dates=['DATE'])"
   ]
  },
  {
   "cell_type": "code",
   "execution_count": 27,
   "id": "1fdcf933-2c24-4b6b-93c9-fd4f717677fe",
   "metadata": {},
   "outputs": [
    {
     "data": {
      "text/html": [
       "<div>\n",
       "<style scoped>\n",
       "    .dataframe tbody tr th:only-of-type {\n",
       "        vertical-align: middle;\n",
       "    }\n",
       "\n",
       "    .dataframe tbody tr th {\n",
       "        vertical-align: top;\n",
       "    }\n",
       "\n",
       "    .dataframe thead th {\n",
       "        text-align: right;\n",
       "    }\n",
       "</style>\n",
       "<table border=\"1\" class=\"dataframe\">\n",
       "  <thead>\n",
       "    <tr style=\"text-align: right;\">\n",
       "      <th></th>\n",
       "      <th>YEAR</th>\n",
       "      <th>MONTH</th>\n",
       "      <th>SUPPLIER</th>\n",
       "      <th>ITEM CODE</th>\n",
       "      <th>ITEM DESCRIPTION</th>\n",
       "      <th>ITEM TYPE</th>\n",
       "      <th>RETAIL SALES</th>\n",
       "      <th>RETAIL TRANSFERS</th>\n",
       "      <th>WAREHOUSE SALES</th>\n",
       "      <th>DATE</th>\n",
       "      <th>QUARTER</th>\n",
       "      <th>TOTAL SALES</th>\n",
       "    </tr>\n",
       "  </thead>\n",
       "  <tbody>\n",
       "    <tr>\n",
       "      <th>0</th>\n",
       "      <td>2020</td>\n",
       "      <td>1</td>\n",
       "      <td>Republic National Distributing Co</td>\n",
       "      <td>100009</td>\n",
       "      <td>Bootleg Red - 750Ml</td>\n",
       "      <td>Wine</td>\n",
       "      <td>0.00</td>\n",
       "      <td>0.0</td>\n",
       "      <td>2.0</td>\n",
       "      <td>2020-01-01</td>\n",
       "      <td>1</td>\n",
       "      <td>2.00</td>\n",
       "    </tr>\n",
       "    <tr>\n",
       "      <th>1</th>\n",
       "      <td>2020</td>\n",
       "      <td>1</td>\n",
       "      <td>Pwswn Inc</td>\n",
       "      <td>100024</td>\n",
       "      <td>Moment De Plaisir - 750Ml</td>\n",
       "      <td>Wine</td>\n",
       "      <td>0.00</td>\n",
       "      <td>1.0</td>\n",
       "      <td>4.0</td>\n",
       "      <td>2020-01-01</td>\n",
       "      <td>1</td>\n",
       "      <td>5.00</td>\n",
       "    </tr>\n",
       "    <tr>\n",
       "      <th>2</th>\n",
       "      <td>2020</td>\n",
       "      <td>1</td>\n",
       "      <td>Reliable Churchill Lllp</td>\n",
       "      <td>1001</td>\n",
       "      <td>S Smith Organic Pear Cider - 18.7Oz</td>\n",
       "      <td>Beer</td>\n",
       "      <td>0.00</td>\n",
       "      <td>0.0</td>\n",
       "      <td>1.0</td>\n",
       "      <td>2020-01-01</td>\n",
       "      <td>1</td>\n",
       "      <td>1.00</td>\n",
       "    </tr>\n",
       "    <tr>\n",
       "      <th>3</th>\n",
       "      <td>2020</td>\n",
       "      <td>1</td>\n",
       "      <td>Lanterna Distributors Inc</td>\n",
       "      <td>100145</td>\n",
       "      <td>Schlink Haus Kabinett - 750Ml</td>\n",
       "      <td>Wine</td>\n",
       "      <td>0.00</td>\n",
       "      <td>0.0</td>\n",
       "      <td>1.0</td>\n",
       "      <td>2020-01-01</td>\n",
       "      <td>1</td>\n",
       "      <td>1.00</td>\n",
       "    </tr>\n",
       "    <tr>\n",
       "      <th>4</th>\n",
       "      <td>2020</td>\n",
       "      <td>1</td>\n",
       "      <td>Dionysos Imports Inc</td>\n",
       "      <td>100293</td>\n",
       "      <td>Santorini Gavala White - 750Ml</td>\n",
       "      <td>Wine</td>\n",
       "      <td>0.82</td>\n",
       "      <td>0.0</td>\n",
       "      <td>0.0</td>\n",
       "      <td>2020-01-01</td>\n",
       "      <td>1</td>\n",
       "      <td>0.82</td>\n",
       "    </tr>\n",
       "  </tbody>\n",
       "</table>\n",
       "</div>"
      ],
      "text/plain": [
       "   YEAR  MONTH                           SUPPLIER ITEM CODE  \\\n",
       "0  2020      1  Republic National Distributing Co    100009   \n",
       "1  2020      1                          Pwswn Inc    100024   \n",
       "2  2020      1            Reliable Churchill Lllp      1001   \n",
       "3  2020      1          Lanterna Distributors Inc    100145   \n",
       "4  2020      1               Dionysos Imports Inc    100293   \n",
       "\n",
       "                      ITEM DESCRIPTION ITEM TYPE  RETAIL SALES  \\\n",
       "0                  Bootleg Red - 750Ml      Wine          0.00   \n",
       "1            Moment De Plaisir - 750Ml      Wine          0.00   \n",
       "2  S Smith Organic Pear Cider - 18.7Oz      Beer          0.00   \n",
       "3        Schlink Haus Kabinett - 750Ml      Wine          0.00   \n",
       "4       Santorini Gavala White - 750Ml      Wine          0.82   \n",
       "\n",
       "   RETAIL TRANSFERS  WAREHOUSE SALES       DATE  QUARTER  TOTAL SALES  \n",
       "0               0.0              2.0 2020-01-01        1         2.00  \n",
       "1               1.0              4.0 2020-01-01        1         5.00  \n",
       "2               0.0              1.0 2020-01-01        1         1.00  \n",
       "3               0.0              1.0 2020-01-01        1         1.00  \n",
       "4               0.0              0.0 2020-01-01        1         0.82  "
      ]
     },
     "execution_count": 27,
     "metadata": {},
     "output_type": "execute_result"
    }
   ],
   "source": [
    "df.head()"
   ]
  },
  {
   "cell_type": "markdown",
   "id": "f6fcbb79-4429-4a17-a9fd-011091397bb1",
   "metadata": {},
   "source": [
    "#### Total Sales \n",
    "\n",
    "Overall"
   ]
  },
  {
   "cell_type": "code",
   "execution_count": 31,
   "id": "dee62bae-7c3e-425e-ac2e-e804b28ffba5",
   "metadata": {},
   "outputs": [
    {
     "name": "stdout",
     "output_type": "stream",
     "text": [
      "Total Sales: 12,076,624.28\n"
     ]
    }
   ],
   "source": [
    "total_sales= df['TOTAL SALES'].sum()\n",
    "print(f\"Total Sales: {total_sales:,.2f}\")"
   ]
  },
  {
   "cell_type": "markdown",
   "id": "3d92067d-598e-4a2e-8ca7-5eca1a2372b1",
   "metadata": {},
   "source": [
    "By Chanel"
   ]
  },
  {
   "cell_type": "code",
   "execution_count": 35,
   "id": "e2c43253-bec1-434b-bd45-417b7a7e452f",
   "metadata": {},
   "outputs": [
    {
     "name": "stdout",
     "output_type": "stream",
     "text": [
      "RETAIL SALES        2160899.37\n",
      "RETAIL TRANSFERS    2133968.63\n",
      "WAREHOUSE SALES     7781756.28\n",
      "dtype: float64\n"
     ]
    }
   ],
   "source": [
    "channel_sales = df[['RETAIL SALES', 'RETAIL TRANSFERS', 'WAREHOUSE SALES']].sum()\n",
    "print(channel_sales)"
   ]
  },
  {
   "cell_type": "markdown",
   "id": "dc4a0f02-d010-4768-a0ef-8818f695d22e",
   "metadata": {},
   "source": [
    "We observe that the WAREHOUS SALES contribute the most to revenue."
   ]
  },
  {
   "cell_type": "markdown",
   "id": "75ae4c73-66ad-4e4e-952a-bfbde8ebf6f0",
   "metadata": {},
   "source": [
    "#### Monthly Sales Trends\n",
    "\n",
    "Monthly and Seasonal Trends"
   ]
  },
  {
   "cell_type": "code",
   "execution_count": 37,
   "id": "5e3c8c70-7f02-409a-bb9e-2035d81196f7",
   "metadata": {},
   "outputs": [
    {
     "data": {
      "image/png": "[encoded data removed]",
      "text/plain": [
       "<Figure size 1200x500 with 1 Axes>"
      ]
     },
     "metadata": {},
     "output_type": "display_data"
    }
   ],
   "source": [
    "monthly_sales= df.groupby(['DATE'])['TOTAL SALES'].sum().reset_index()\n",
    "\n",
    "plt.figure(figsize=(12,5))\n",
    "sns.lineplot(data=monthly_sales, x='DATE', y='TOTAL SALES')\n",
    "plt.title('Monthly Sales')\n",
    "plt.ylabel('Total Sales')\n",
    "plt.xlabel('Date')\n",
    "plt.xticks(rotation=45)\n",
    "plt.show()"
   ]
  },
  {
   "cell_type": "markdown",
   "id": "745c92c9-4bca-471b-b33f-11c36e1ce88d",
   "metadata": {},
   "source": [
    "#### Top 10 Items by Total Sales\n",
    "\n",
    "Highlighting best-selling products."
   ]
  },
  {
   "cell_type": "code",
   "execution_count": 39,
   "id": "11ba0e68-c24b-4aa0-a354-d9ba93681ae2",
   "metadata": {},
   "outputs": [
    {
     "data": {
      "text/plain": [
       "ITEM DESCRIPTION\n",
       "Corona Extra Loose Nr - 12Oz          352574.83\n",
       "Corona Extra 2/12 Nr - 12Oz           266992.08\n",
       "Heineken Loose Nr - 12Oz              206675.17\n",
       "Heineken 2/12 Nr - 12Oz               169564.90\n",
       "Miller Lite 30Pk Can - 12Oz           162971.40\n",
       "Corona Extra 4/6 Nr - 12Oz            140151.32\n",
       "Modelo Especial 24 Loose Nr - 12Oz    126634.80\n",
       "Bud Light 30Pk Can                    120735.97\n",
       "Heineken 4/6 Nr - 12Oz                110962.92\n",
       "Corona Extra 18Pk Nr - 12Oz           100913.44\n",
       "Name: TOTAL SALES, dtype: float64"
      ]
     },
     "execution_count": 39,
     "metadata": {},
     "output_type": "execute_result"
    }
   ],
   "source": [
    "top_items=df.groupby(['ITEM DESCRIPTION'])['TOTAL SALES'].sum().sort_values(ascending=False).head(10)\n",
    "top_items"
   ]
  },
  {
   "cell_type": "code",
   "execution_count": 41,
   "id": "56580c56-c855-4819-856e-40b4535b598e",
   "metadata": {},
   "outputs": [
    {
     "name": "stderr",
     "output_type": "stream",
     "text": [
      "C:\\Users\\kwnst\\AppData\\Local\\Temp\\ipykernel_3656\\1778100403.py:2: FutureWarning: \n",
      "\n",
      "Passing `palette` without assigning `hue` is deprecated and will be removed in v0.14.0. Assign the `y` variable to `hue` and set `legend=False` for the same effect.\n",
      "\n",
      "  sns.barplot(x=top_items.values, y=top_items.index, palette='viridis')\n"
     ]
    },
    {
     "data": {
      "image/png": "[encoded data removed]",
      "text/plain": [
       "<Figure size 1200x500 with 1 Axes>"
      ]
     },
     "metadata": {},
     "output_type": "display_data"
    }
   ],
   "source": [
    "plt.figure(figsize=(12,5))\n",
    "sns.barplot(x=top_items.values, y=top_items.index, palette='viridis')\n",
    "plt.title('TOP 10 Items by total sales')\n",
    "plt.ylabel('TOTAL SALES')\n",
    "plt.xlabel('ITEM DESCRIPTION')\n",
    "plt.show()"
   ]
  },
  {
   "cell_type": "markdown",
   "id": "12b3a072-e0e0-4060-a05f-e8c1520c5669",
   "metadata": {},
   "source": [
    "#### Top Suppliers\n",
    "\n",
    "Suppliers contributing most to revenue."
   ]
  },
  {
   "cell_type": "code",
   "execution_count": 43,
   "id": "c3dbd695-cffa-4733-9820-9d37337e37a2",
   "metadata": {},
   "outputs": [
    {
     "data": {
      "text/plain": [
       "SUPPLIER\n",
       "Crown Imports               1819141.93\n",
       "Miller Brewing Company      1597808.94\n",
       "Anheuser Busch Inc          1549362.68\n",
       "Heineken Usa                 940796.79\n",
       "E & J Gallo Winery           528656.13\n",
       "Diageo North America Inc     459921.54\n",
       "Constellation Brands         380826.10\n",
       "Boston Beer Corporation      271825.23\n",
       "The Wine Group               200316.64\n",
       "Jim Beam Brands Co           199336.22\n",
       "Name: TOTAL SALES, dtype: float64"
      ]
     },
     "execution_count": 43,
     "metadata": {},
     "output_type": "execute_result"
    }
   ],
   "source": [
    "top_suppliers=df.groupby(['SUPPLIER'])['TOTAL SALES'].sum().sort_values(ascending=False).head(10)\n",
    "top_suppliers"
   ]
  },
  {
   "cell_type": "code",
   "execution_count": 46,
   "id": "fe4317e3-191c-4289-b1a1-0b7d31aff263",
   "metadata": {},
   "outputs": [
    {
     "name": "stderr",
     "output_type": "stream",
     "text": [
      "C:\\Users\\kwnst\\AppData\\Local\\Temp\\ipykernel_3656\\4156866888.py:2: FutureWarning: \n",
      "\n",
      "Passing `palette` without assigning `hue` is deprecated and will be removed in v0.14.0. Assign the `y` variable to `hue` and set `legend=False` for the same effect.\n",
      "\n",
      "  sns.barplot(x=top_suppliers.values, y=top_suppliers.index, palette='magma')\n"
     ]
    },
    {
     "data": {
      "image/png": "[encoded data removed]",
      "text/plain": [
       "<Figure size 1200x500 with 1 Axes>"
      ]
     },
     "metadata": {},
     "output_type": "display_data"
    }
   ],
   "source": [
    "plt.figure(figsize=(12,5))\n",
    "sns.barplot(x=top_suppliers.values, y=top_suppliers.index, palette='magma')\n",
    "plt.title('TOP 10 Suppliers by total sales')\n",
    "plt.ylabel('Total Sales')\n",
    "plt.xlabel('Suppliers')\n",
    "plt.show()"
   ]
  },
  {
   "cell_type": "markdown",
   "id": "79e44562-0be2-472c-b899-ff52e6114e48",
   "metadata": {},
   "source": [
    "#### Sales by Item Type"
   ]
  },
  {
   "cell_type": "code",
   "execution_count": 59,
   "id": "5e443fe2-380f-4ce9-9e72-6aae72c2d59c",
   "metadata": {},
   "outputs": [
    {
     "data": {
      "text/plain": [
       "ITEM TYPE\n",
       "Beer            7668903.30\n",
       "Kegs             118622.00\n",
       "Liquor          1692597.13\n",
       "Non-Alcohol       86901.49\n",
       "Ref                1350.63\n",
       "Str_Supplies      13587.46\n",
       "Unknown Type          1.00\n",
       "Wine            2638596.04\n",
       "Name: TOTAL SALES, dtype: float64"
      ]
     },
     "execution_count": 59,
     "metadata": {},
     "output_type": "execute_result"
    }
   ],
   "source": [
    "type_sales=df[df['TOTAL SALES'] > 0].groupby('ITEM TYPE')['TOTAL SALES'].sum()\n",
    "type_sales"
   ]
  },
  {
   "cell_type": "code",
   "execution_count": 60,
   "id": "5ca22656-6130-4fd7-866d-ca4bb257308c",
   "metadata": {},
   "outputs": [
    {
     "data": {
      "image/png": "[encoded data removed]",
      "text/plain": [
       "<Figure size 800x800 with 1 Axes>"
      ]
     },
     "metadata": {},
     "output_type": "display_data"
    }
   ],
   "source": [
    "plt.figure(figsize=(8,8))\n",
    "plt.pie(type_sales, labels=type_sales.index, autopct='%1.1f%%', startangle=140)\n",
    "plt.title(\"Sales Distribution by Item Type (Positive Sales Only)\")\n",
    "plt.show()"
   ]
  },
  {
   "cell_type": "code",
   "execution_count": 69,
   "id": "69ca7d58-1e57-46ee-a584-84cbfc9a52c4",
   "metadata": {},
   "outputs": [
    {
     "data": {
      "image/png": "[encoded data removed]",
      "text/plain": [
       "<Figure size 800x800 with 1 Axes>"
      ]
     },
     "metadata": {},
     "output_type": "display_data"
    }
   ],
   "source": [
    "negatives = df[df['TOTAL SALES'] < 0].groupby('ITEM TYPE')['TOTAL SALES'].sum()\n",
    "\n",
    "plt.figure(figsize=(8,8))\n",
    "plt.pie(negatives.abs(), labels=negatives.index, autopct='%1.1f%%', startangle=140)\n",
    "plt.title(\"Distribution of Negative Sales / Credits by Item Type\")\n",
    "plt.show()"
   ]
  },
  {
   "cell_type": "markdown",
   "id": "0af3f758-8b10-4903-a241-a6e59fbcebb6",
   "metadata": {},
   "source": [
    "#### Season Analysis"
   ]
  },
  {
   "cell_type": "code",
   "execution_count": 53,
   "id": "cbcfd8ce-bee0-4699-a441-90b99177b6dd",
   "metadata": {},
   "outputs": [
    {
     "data": {
      "image/png": "[encoded data removed]",
      "text/plain": [
       "<Figure size 1000x500 with 1 Axes>"
      ]
     },
     "metadata": {},
     "output_type": "display_data"
    }
   ],
   "source": [
    "# Sales by month\n",
    "month_sales = df.groupby('MONTH')['TOTAL SALES'].sum()\n",
    "plt.figure(figsize=(10,5))\n",
    "sns.barplot(x=month_sales.index, y=month_sales.values, color=\"blue\")\n",
    "plt.title(\"Total Sales by Month\")\n",
    "plt.xlabel(\"Month\")\n",
    "plt.ylabel(\"Total Sales\")\n",
    "plt.show()"
   ]
  }
 ],
 "metadata": {
  "kernelspec": {
   "display_name": "Python [conda env:base] *",
   "language": "python",
   "name": "conda-base-py"
  },
  "language_info": {
   "codemirror_mode": {
    "name": "ipython",
    "version": 3
   },
   "file_extension": ".py",
   "mimetype": "text/x-python",
   "name": "python",
   "nbconvert_exporter": "python",
   "pygments_lexer": "ipython3",
   "version": "3.13.5"
  }
 },
 "nbformat": 4,
 "nbformat_minor": 5
}
